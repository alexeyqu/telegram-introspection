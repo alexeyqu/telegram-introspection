{
  "cells": [
    {
      "cell_type": "markdown",
      "metadata": {
        "id": "ZSNKpzEKFMJn"
      },
      "source": [
        "This snippet calculates the user/message statistics for a Telegram group chat."
      ]
    },
    {
      "cell_type": "code",
      "execution_count": 1,
      "metadata": {
        "colab": {
          "base_uri": "https://localhost:8080/"
        },
        "id": "eNM6BpPcBKbA",
        "outputId": "0c3d7964-9272-4b4c-dc2e-62bc43ef473c"
      },
      "outputs": [
        {
          "name": "stdout",
          "output_type": "stream",
          "text": [
            "Looking in indexes: https://pypi.org/simple, https://us-python.pkg.dev/colab-wheels/public/simple/\n",
            "Requirement already satisfied: telethon in /usr/local/lib/python3.10/dist-packages (1.25.4)\n",
            "Requirement already satisfied: pyaes in /usr/local/lib/python3.10/dist-packages (from telethon) (1.6.1)\n",
            "Requirement already satisfied: rsa in /usr/local/lib/python3.10/dist-packages (from telethon) (4.9)\n",
            "Requirement already satisfied: pyasn1>=0.1.3 in /usr/local/lib/python3.10/dist-packages (from rsa->telethon) (0.5.0)\n"
          ]
        }
      ],
      "source": [
        "!pip install telethon"
      ]
    },
    {
      "cell_type": "markdown",
      "metadata": {
        "id": "kQda9n24Ej_7"
      },
      "source": [
        "You can get `api_hash` and `api_id` from https://my.telegram.org/apps after logging into the user you want to use.<br>\n",
        "`session` is the name of the session, it can be anything.\n",
        "\n",
        "`chat_id` is the ID of the chat, the easiest way is to open the chat in web, <br>\n",
        "e.g. https://web.telegram.org/a/#-100000000 means `chat_id = -100000000`."
      ]
    },
    {
      "cell_type": "code",
      "execution_count": 4,
      "metadata": {
        "id": "t7IM6XJO__73"
      },
      "outputs": [],
      "source": [
        "from telethon import TelegramClient\n",
        "from telethon.tl.types import User, PeerChannel, Dialog\n",
        "from collections import defaultdict\n",
        "\n",
        "api_hash='xx'\n",
        "api_id = 'xx'\n",
        "session = 'session'\n",
        "\n",
        "chat_id = -100000000"
      ]
    },
    {
      "cell_type": "code",
      "execution_count": null,
      "metadata": {
        "colab": {
          "base_uri": "https://localhost:8080/"
        },
        "id": "j7UveNgHmulC",
        "outputId": "1b7043f4-0cac-4bd6-9cc9-84c2717ed938"
      },
      "outputs": [],
      "source": [
        "async def get_chat_participants():\n",
        "    async with TelegramClient(session, api_id, api_hash) as client:\n",
        "        await client.start()\n",
        "        chat = await client.get_entity(PeerChannel(chat_id))\n",
        "        user_stat = defaultdict(int)\n",
        "        users = {user.id: f'{user.first_name} {user.last_name}' async for user in client.iter_participants(chat)}\n",
        "        async for message in client.iter_messages(chat):\n",
        "            user_stat[message.sender_id] += 1\n",
        "        for k, v in sorted({users.get(userid, userid): message_count for userid, message_count in user_stat.items()}.items(), key=lambda item: item[1], reverse=True):\n",
        "            print(k, v)\n",
        "\n",
        "await get_chat_participants()"
      ]
    }
  ],
  "metadata": {
    "colab": {
      "provenance": []
    },
    "kernelspec": {
      "display_name": "Python 3",
      "name": "python3"
    },
    "language_info": {
      "name": "python"
    }
  },
  "nbformat": 4,
  "nbformat_minor": 0
}
